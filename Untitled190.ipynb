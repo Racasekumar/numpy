{
  "nbformat": 4,
  "nbformat_minor": 0,
  "metadata": {
    "colab": {
      "name": "Untitled190.ipynb",
      "provenance": []
    },
    "kernelspec": {
      "name": "python3",
      "display_name": "Python 3"
    },
    "language_info": {
      "name": "python"
    }
  },
  "cells": [
    {
      "cell_type": "code",
      "execution_count": 1,
      "metadata": {
        "id": "JvKXAgJjP-eS"
      },
      "outputs": [],
      "source": [
        "import numpy as np\n"
      ]
    },
    {
      "cell_type": "code",
      "source": [
        "dir(np)"
      ],
      "metadata": {
        "id": "e9NCN9JqQepc"
      },
      "execution_count": null,
      "outputs": []
    },
    {
      "cell_type": "code",
      "source": [
        "np.__version__"
      ],
      "metadata": {
        "colab": {
          "base_uri": "https://localhost:8080/",
          "height": 35
        },
        "id": "KHaNhDOmQrSr",
        "outputId": "c54a567f-5dfd-450e-f918-af804aeb251e"
      },
      "execution_count": 3,
      "outputs": [
        {
          "output_type": "execute_result",
          "data": {
            "application/vnd.google.colaboratory.intrinsic+json": {
              "type": "string"
            },
            "text/plain": [
              "'1.19.5'"
            ]
          },
          "metadata": {},
          "execution_count": 3
        }
      ]
    },
    {
      "cell_type": "code",
      "source": [
        "x=np.zeros(10)\n",
        "x"
      ],
      "metadata": {
        "colab": {
          "base_uri": "https://localhost:8080/"
        },
        "id": "Hfhef19FRF6q",
        "outputId": "01475cfc-42c8-40e8-83d9-92b14b9b24c0"
      },
      "execution_count": 46,
      "outputs": [
        {
          "output_type": "execute_result",
          "data": {
            "text/plain": [
              "array([0., 0., 0., 0., 0., 0., 0., 0., 0., 0.])"
            ]
          },
          "metadata": {},
          "execution_count": 46
        }
      ]
    },
    {
      "cell_type": "code",
      "source": [
        "x.size"
      ],
      "metadata": {
        "colab": {
          "base_uri": "https://localhost:8080/"
        },
        "id": "M1uEgdGHRyOS",
        "outputId": "6902e00f-3a27-4d78-e21a-fc8d5cdad371"
      },
      "execution_count": 7,
      "outputs": [
        {
          "output_type": "execute_result",
          "data": {
            "text/plain": [
              "10"
            ]
          },
          "metadata": {},
          "execution_count": 7
        }
      ]
    },
    {
      "cell_type": "code",
      "source": [
        "x.itemsize"
      ],
      "metadata": {
        "colab": {
          "base_uri": "https://localhost:8080/"
        },
        "id": "P9t6sZmoR6kW",
        "outputId": "45719bfa-308b-4373-da39-a3c5e88738b7"
      },
      "execution_count": 8,
      "outputs": [
        {
          "output_type": "execute_result",
          "data": {
            "text/plain": [
              "8"
            ]
          },
          "metadata": {},
          "execution_count": 8
        }
      ]
    },
    {
      "cell_type": "code",
      "source": [
        "x[1]=89\n",
        "x"
      ],
      "metadata": {
        "colab": {
          "base_uri": "https://localhost:8080/"
        },
        "id": "nhu-pPr6SPBx",
        "outputId": "42613b8d-4d8f-40a1-a7e4-36edfc2f6088"
      },
      "execution_count": 47,
      "outputs": [
        {
          "output_type": "execute_result",
          "data": {
            "text/plain": [
              "array([ 0., 89.,  0.,  0.,  0.,  0.,  0.,  0.,  0.,  0.])"
            ]
          },
          "metadata": {},
          "execution_count": 47
        }
      ]
    },
    {
      "cell_type": "code",
      "source": [
        "k=np.nonzero(x)\n",
        "k"
      ],
      "metadata": {
        "colab": {
          "base_uri": "https://localhost:8080/"
        },
        "id": "HS26l_dUZw0i",
        "outputId": "457f0f92-37ff-4786-9b96-ad97d2c2e626"
      },
      "execution_count": 48,
      "outputs": [
        {
          "output_type": "execute_result",
          "data": {
            "text/plain": [
              "(array([1]),)"
            ]
          },
          "metadata": {},
          "execution_count": 48
        }
      ]
    },
    {
      "cell_type": "code",
      "source": [
        "type(x[3])"
      ],
      "metadata": {
        "colab": {
          "base_uri": "https://localhost:8080/"
        },
        "id": "hd1KipBHSc4W",
        "outputId": "0739299b-dc96-421b-deff-af38546bb6d1"
      },
      "execution_count": 20,
      "outputs": [
        {
          "output_type": "execute_result",
          "data": {
            "text/plain": [
              "numpy.float64"
            ]
          },
          "metadata": {},
          "execution_count": 20
        }
      ]
    },
    {
      "cell_type": "code",
      "source": [
        "x=np.zeros((11,4))\n",
        "x"
      ],
      "metadata": {
        "colab": {
          "base_uri": "https://localhost:8080/"
        },
        "id": "kjWQ9KATSvDE",
        "outputId": "d57c4799-b582-4166-be0f-fcdd4f1cfe2d"
      },
      "execution_count": 12,
      "outputs": [
        {
          "output_type": "execute_result",
          "data": {
            "text/plain": [
              "array([[0., 0., 0., 0.],\n",
              "       [0., 0., 0., 0.],\n",
              "       [0., 0., 0., 0.],\n",
              "       [0., 0., 0., 0.],\n",
              "       [0., 0., 0., 0.],\n",
              "       [0., 0., 0., 0.],\n",
              "       [0., 0., 0., 0.],\n",
              "       [0., 0., 0., 0.],\n",
              "       [0., 0., 0., 0.],\n",
              "       [0., 0., 0., 0.],\n",
              "       [0., 0., 0., 0.]])"
            ]
          },
          "metadata": {},
          "execution_count": 12
        }
      ]
    },
    {
      "cell_type": "code",
      "source": [
        "x.size*x.itemsize"
      ],
      "metadata": {
        "colab": {
          "base_uri": "https://localhost:8080/"
        },
        "id": "qlGMYI7ETBOI",
        "outputId": "46e181e2-7047-4346-aa5e-308abfa45d10"
      },
      "execution_count": 15,
      "outputs": [
        {
          "output_type": "execute_result",
          "data": {
            "text/plain": [
              "352"
            ]
          },
          "metadata": {},
          "execution_count": 15
        }
      ]
    },
    {
      "cell_type": "code",
      "source": [
        "x.shape"
      ],
      "metadata": {
        "colab": {
          "base_uri": "https://localhost:8080/"
        },
        "id": "ibFcefFATGXG",
        "outputId": "f0477173-0e19-4aed-ca54-6c72878380a0"
      },
      "execution_count": 14,
      "outputs": [
        {
          "output_type": "execute_result",
          "data": {
            "text/plain": [
              "(11, 4)"
            ]
          },
          "metadata": {},
          "execution_count": 14
        }
      ]
    },
    {
      "cell_type": "code",
      "source": [
        "y=np.arange(10,45)\n",
        "y"
      ],
      "metadata": {
        "colab": {
          "base_uri": "https://localhost:8080/"
        },
        "id": "2O3q0FRdUfmV",
        "outputId": "c5893eb4-b81f-4380-e31c-bca1062f7729"
      },
      "execution_count": 21,
      "outputs": [
        {
          "output_type": "execute_result",
          "data": {
            "text/plain": [
              "array([10, 11, 12, 13, 14, 15, 16, 17, 18, 19, 20, 21, 22, 23, 24, 25, 26,\n",
              "       27, 28, 29, 30, 31, 32, 33, 34, 35, 36, 37, 38, 39, 40, 41, 42, 43,\n",
              "       44])"
            ]
          },
          "metadata": {},
          "execution_count": 21
        }
      ]
    },
    {
      "cell_type": "code",
      "source": [
        "y=np.arange(0,50)\n",
        "y"
      ],
      "metadata": {
        "colab": {
          "base_uri": "https://localhost:8080/"
        },
        "id": "g_L9CUaBUryP",
        "outputId": "9f9d72e6-ce4f-4383-93a8-734148af1ed1"
      },
      "execution_count": 22,
      "outputs": [
        {
          "output_type": "execute_result",
          "data": {
            "text/plain": [
              "array([ 0,  1,  2,  3,  4,  5,  6,  7,  8,  9, 10, 11, 12, 13, 14, 15, 16,\n",
              "       17, 18, 19, 20, 21, 22, 23, 24, 25, 26, 27, 28, 29, 30, 31, 32, 33,\n",
              "       34, 35, 36, 37, 38, 39, 40, 41, 42, 43, 44, 45, 46, 47, 48, 49])"
            ]
          },
          "metadata": {},
          "execution_count": 22
        }
      ]
    },
    {
      "cell_type": "code",
      "source": [
        "y=np.arange(45)\n",
        "y"
      ],
      "metadata": {
        "id": "bFKrHZ5NU6N7"
      },
      "execution_count": null,
      "outputs": []
    },
    {
      "cell_type": "code",
      "source": [
        "y=np.arange(7,45,4)\n",
        "y"
      ],
      "metadata": {
        "colab": {
          "base_uri": "https://localhost:8080/"
        },
        "id": "4XlT5sncU-TE",
        "outputId": "37059dc6-92b4-4618-c860-f5942811bb23"
      },
      "execution_count": 25,
      "outputs": [
        {
          "output_type": "execute_result",
          "data": {
            "text/plain": [
              "array([ 7, 11, 15, 19, 23, 27, 31, 35, 39, 43])"
            ]
          },
          "metadata": {},
          "execution_count": 25
        }
      ]
    },
    {
      "cell_type": "code",
      "source": [
        "y=np.arange(45,0,-2)\n",
        "y"
      ],
      "metadata": {
        "colab": {
          "base_uri": "https://localhost:8080/"
        },
        "id": "5NVh68aZVKGo",
        "outputId": "33ee335b-15d5-4929-98b9-7fe7eaa6da14"
      },
      "execution_count": 30,
      "outputs": [
        {
          "output_type": "execute_result",
          "data": {
            "text/plain": [
              "array([45, 43, 41, 39, 37, 35, 33, 31, 29, 27, 25, 23, 21, 19, 17, 15, 13,\n",
              "       11,  9,  7,  5,  3,  1])"
            ]
          },
          "metadata": {},
          "execution_count": 30
        }
      ]
    },
    {
      "cell_type": "code",
      "source": [
        "y=np.arange(1,13).reshape(4,3)\n",
        "y"
      ],
      "metadata": {
        "colab": {
          "base_uri": "https://localhost:8080/"
        },
        "id": "wiWN1MfAVwrq",
        "outputId": "4435c326-915a-4ab8-d9e5-11c4b137cf09"
      },
      "execution_count": 31,
      "outputs": [
        {
          "output_type": "execute_result",
          "data": {
            "text/plain": [
              "array([[ 1,  2,  3],\n",
              "       [ 4,  5,  6],\n",
              "       [ 7,  8,  9],\n",
              "       [10, 11, 12]])"
            ]
          },
          "metadata": {},
          "execution_count": 31
        }
      ]
    },
    {
      "cell_type": "code",
      "source": [
        "y=np.arange(1,13).reshape(6,2)\n",
        "y"
      ],
      "metadata": {
        "colab": {
          "base_uri": "https://localhost:8080/"
        },
        "id": "RObZY27PWBB6",
        "outputId": "ec6e0bdd-9c45-4960-908d-ab892abf1fa2"
      },
      "execution_count": 34,
      "outputs": [
        {
          "output_type": "execute_result",
          "data": {
            "text/plain": [
              "array([[ 1,  2],\n",
              "       [ 3,  4],\n",
              "       [ 5,  6],\n",
              "       [ 7,  8],\n",
              "       [ 9, 10],\n",
              "       [11, 12]])"
            ]
          },
          "metadata": {},
          "execution_count": 34
        }
      ]
    },
    {
      "cell_type": "code",
      "source": [
        "y=np.arange(1,13)\n",
        "z=y.reshape(6,2)\n",
        "z,y"
      ],
      "metadata": {
        "colab": {
          "base_uri": "https://localhost:8080/"
        },
        "id": "-VCZV1RqWUCh",
        "outputId": "dd75ff67-af66-4f04-ad13-dd918e145fe0"
      },
      "execution_count": 36,
      "outputs": [
        {
          "output_type": "execute_result",
          "data": {
            "text/plain": [
              "(array([[ 1,  2],\n",
              "        [ 3,  4],\n",
              "        [ 5,  6],\n",
              "        [ 7,  8],\n",
              "        [ 9, 10],\n",
              "        [11, 12]]), array([ 1,  2,  3,  4,  5,  6,  7,  8,  9, 10, 11, 12]))"
            ]
          },
          "metadata": {},
          "execution_count": 36
        }
      ]
    },
    {
      "cell_type": "code",
      "source": [
        "y=np.arange(-50,50,2).reshape(5,10)\n",
        "y"
      ],
      "metadata": {
        "colab": {
          "base_uri": "https://localhost:8080/"
        },
        "id": "7Ys9ajMcXh8D",
        "outputId": "94291fb8-7b2d-4350-8a0e-e9d76bab38f5"
      },
      "execution_count": 38,
      "outputs": [
        {
          "output_type": "execute_result",
          "data": {
            "text/plain": [
              "array([[-50, -48, -46, -44, -42, -40, -38, -36, -34, -32],\n",
              "       [-30, -28, -26, -24, -22, -20, -18, -16, -14, -12],\n",
              "       [-10,  -8,  -6,  -4,  -2,   0,   2,   4,   6,   8],\n",
              "       [ 10,  12,  14,  16,  18,  20,  22,  24,  26,  28],\n",
              "       [ 30,  32,  34,  36,  38,  40,  42,  44,  46,  48]])"
            ]
          },
          "metadata": {},
          "execution_count": 38
        }
      ]
    },
    {
      "cell_type": "code",
      "source": [
        "y=np.arange(50,-50,-2).reshape(5,10)\n",
        "y"
      ],
      "metadata": {
        "colab": {
          "base_uri": "https://localhost:8080/"
        },
        "id": "WP5mla3cXpK6",
        "outputId": "6d66cfbd-b631-43e2-cb1b-49586974aa84"
      },
      "execution_count": 39,
      "outputs": [
        {
          "output_type": "execute_result",
          "data": {
            "text/plain": [
              "array([[ 50,  48,  46,  44,  42,  40,  38,  36,  34,  32],\n",
              "       [ 30,  28,  26,  24,  22,  20,  18,  16,  14,  12],\n",
              "       [ 10,   8,   6,   4,   2,   0,  -2,  -4,  -6,  -8],\n",
              "       [-10, -12, -14, -16, -18, -20, -22, -24, -26, -28],\n",
              "       [-30, -32, -34, -36, -38, -40, -42, -44, -46, -48]])"
            ]
          },
          "metadata": {},
          "execution_count": 39
        }
      ]
    },
    {
      "cell_type": "code",
      "source": [
        "z=np.nonzero([4,5,0,6,0,8,9])\n",
        "z"
      ],
      "metadata": {
        "colab": {
          "base_uri": "https://localhost:8080/"
        },
        "id": "cvvaVE6oXyVu",
        "outputId": "a220ff98-4b94-4902-faaa-d93e4100e255"
      },
      "execution_count": 41,
      "outputs": [
        {
          "output_type": "execute_result",
          "data": {
            "text/plain": [
              "(array([0, 1, 3, 5, 6]),)"
            ]
          },
          "metadata": {},
          "execution_count": 41
        }
      ]
    },
    {
      "cell_type": "code",
      "source": [
        "x=np.eye(3)\n",
        "x"
      ],
      "metadata": {
        "colab": {
          "base_uri": "https://localhost:8080/"
        },
        "id": "8LWsb72iYST7",
        "outputId": "8182c667-34b3-44fc-b3cf-9f140a8e9623"
      },
      "execution_count": 42,
      "outputs": [
        {
          "output_type": "execute_result",
          "data": {
            "text/plain": [
              "array([[1., 0., 0.],\n",
              "       [0., 1., 0.],\n",
              "       [0., 0., 1.]])"
            ]
          },
          "metadata": {},
          "execution_count": 42
        }
      ]
    },
    {
      "cell_type": "code",
      "source": [
        "y=np.arange(50,-50,-2)\n",
        "z=np.nonzero(y)\n",
        "z,y"
      ],
      "metadata": {
        "colab": {
          "base_uri": "https://localhost:8080/"
        },
        "id": "ebZhj_CxYewX",
        "outputId": "dd92dbce-91c7-4656-e38b-5f08f4bf3e63"
      },
      "execution_count": 45,
      "outputs": [
        {
          "output_type": "execute_result",
          "data": {
            "text/plain": [
              "((array([ 0,  1,  2,  3,  4,  5,  6,  7,  8,  9, 10, 11, 12, 13, 14, 15, 16,\n",
              "         17, 18, 19, 20, 21, 22, 23, 24, 26, 27, 28, 29, 30, 31, 32, 33, 34,\n",
              "         35, 36, 37, 38, 39, 40, 41, 42, 43, 44, 45, 46, 47, 48, 49]),),\n",
              " array([ 50,  48,  46,  44,  42,  40,  38,  36,  34,  32,  30,  28,  26,\n",
              "         24,  22,  20,  18,  16,  14,  12,  10,   8,   6,   4,   2,   0,\n",
              "         -2,  -4,  -6,  -8, -10, -12, -14, -16, -18, -20, -22, -24, -26,\n",
              "        -28, -30, -32, -34, -36, -38, -40, -42, -44, -46, -48]))"
            ]
          },
          "metadata": {},
          "execution_count": 45
        }
      ]
    },
    {
      "cell_type": "code",
      "source": [
        "k=8*np.random.random((4,4,3))\n",
        "k"
      ],
      "metadata": {
        "colab": {
          "base_uri": "https://localhost:8080/"
        },
        "id": "bFgn_RRAZ_wb",
        "outputId": "b62ec6d6-99ce-4ea9-d1d9-bab4119567d2"
      },
      "execution_count": 64,
      "outputs": [
        {
          "output_type": "execute_result",
          "data": {
            "text/plain": [
              "array([[[4.94202992, 5.09766763, 4.677424  ],\n",
              "        [6.34617562, 5.50925318, 6.88650715],\n",
              "        [5.63342019, 7.81643671, 3.48990053],\n",
              "        [0.531766  , 2.06407172, 4.69607513]],\n",
              "\n",
              "       [[2.73132384, 6.99177148, 3.28418315],\n",
              "        [2.5355096 , 3.20443377, 5.01372225],\n",
              "        [1.36153212, 4.80988988, 0.90803354],\n",
              "        [6.8363146 , 6.39448455, 6.70344128]],\n",
              "\n",
              "       [[1.38809073, 2.10842947, 1.79190937],\n",
              "        [0.78710576, 7.96767042, 6.61191124],\n",
              "        [3.08186522, 5.11287561, 2.61381444],\n",
              "        [4.64446174, 0.93631135, 2.04282144]],\n",
              "\n",
              "       [[4.15254279, 7.75253067, 5.45584102],\n",
              "        [5.8648001 , 5.19176014, 7.57047187],\n",
              "        [5.30618574, 0.87941573, 5.95691172],\n",
              "        [5.92273415, 2.33036463, 3.04055408]]])"
            ]
          },
          "metadata": {},
          "execution_count": 64
        }
      ]
    },
    {
      "cell_type": "code",
      "source": [
        "dir(np.random)"
      ],
      "metadata": {
        "id": "taR_q4v8aiEP"
      },
      "execution_count": null,
      "outputs": []
    },
    {
      "cell_type": "code",
      "source": [
        "k=np.random.randint(20,size=(10,4))\n",
        "k"
      ],
      "metadata": {
        "colab": {
          "base_uri": "https://localhost:8080/"
        },
        "id": "_NwmYS0Ea4DO",
        "outputId": "347127f8-294c-45a0-dba3-f8acb6cbaf11"
      },
      "execution_count": 65,
      "outputs": [
        {
          "output_type": "execute_result",
          "data": {
            "text/plain": [
              "array([[ 0, 13,  7, 10],\n",
              "       [ 3, 13, 10,  7],\n",
              "       [16,  4, 15, 12],\n",
              "       [11,  8, 16, 16],\n",
              "       [19,  9, 18,  2],\n",
              "       [18,  4, 19,  5],\n",
              "       [10,  6,  0,  7],\n",
              "       [ 6,  8, 19, 19],\n",
              "       [ 0,  3, 17, 16],\n",
              "       [17,  9, 10, 14]])"
            ]
          },
          "metadata": {},
          "execution_count": 65
        }
      ]
    },
    {
      "cell_type": "code",
      "source": [
        "k.max(),k.min(),k.mean(),k.sum()"
      ],
      "metadata": {
        "colab": {
          "base_uri": "https://localhost:8080/"
        },
        "id": "FzoWBDCwbhro",
        "outputId": "6e63bb42-0ee5-47f0-c8b7-3fc484cbf5d1"
      },
      "execution_count": 69,
      "outputs": [
        {
          "output_type": "execute_result",
          "data": {
            "text/plain": [
              "(19, 0, 10.4, 416)"
            ]
          },
          "metadata": {},
          "execution_count": 69
        }
      ]
    },
    {
      "cell_type": "code",
      "source": [
        "k=np.ones((7,7))\n",
        "k"
      ],
      "metadata": {
        "colab": {
          "base_uri": "https://localhost:8080/"
        },
        "id": "A-hkLvq7dSD9",
        "outputId": "8b51b19e-748b-41ad-ca8f-5cd2ea20b62b"
      },
      "execution_count": 72,
      "outputs": [
        {
          "output_type": "execute_result",
          "data": {
            "text/plain": [
              "array([[1., 1., 1., 1., 1., 1., 1.],\n",
              "       [1., 1., 1., 1., 1., 1., 1.],\n",
              "       [1., 1., 1., 1., 1., 1., 1.],\n",
              "       [1., 1., 1., 1., 1., 1., 1.],\n",
              "       [1., 1., 1., 1., 1., 1., 1.],\n",
              "       [1., 1., 1., 1., 1., 1., 1.],\n",
              "       [1., 1., 1., 1., 1., 1., 1.]])"
            ]
          },
          "metadata": {},
          "execution_count": 72
        }
      ]
    },
    {
      "cell_type": "code",
      "source": [
        "k[0:,0]=0\n",
        "k"
      ],
      "metadata": {
        "colab": {
          "base_uri": "https://localhost:8080/"
        },
        "id": "99rVaLz2fjCm",
        "outputId": "70092ab4-bc9c-4f5f-8466-9b6d55800107"
      },
      "execution_count": 81,
      "outputs": [
        {
          "output_type": "execute_result",
          "data": {
            "text/plain": [
              "array([[0., 1., 1., 1., 1., 1., 1.],\n",
              "       [0., 1., 1., 1., 1., 1., 1.],\n",
              "       [0., 1., 1., 1., 1., 1., 1.],\n",
              "       [0., 1., 1., 1., 1., 1., 1.],\n",
              "       [0., 1., 1., 1., 1., 1., 1.],\n",
              "       [0., 1., 1., 1., 1., 1., 1.],\n",
              "       [0., 1., 1., 1., 1., 1., 1.]])"
            ]
          },
          "metadata": {},
          "execution_count": 81
        }
      ]
    },
    {
      "cell_type": "code",
      "source": [
        "k[0:,6]=0\n",
        "k"
      ],
      "metadata": {
        "colab": {
          "base_uri": "https://localhost:8080/"
        },
        "id": "hh-RuZphgAxa",
        "outputId": "743b2876-348f-41a6-cb86-cc8de7076cf8"
      },
      "execution_count": 82,
      "outputs": [
        {
          "output_type": "execute_result",
          "data": {
            "text/plain": [
              "array([[0., 1., 1., 1., 1., 1., 0.],\n",
              "       [0., 1., 1., 1., 1., 1., 0.],\n",
              "       [0., 1., 1., 1., 1., 1., 0.],\n",
              "       [0., 1., 1., 1., 1., 1., 0.],\n",
              "       [0., 1., 1., 1., 1., 1., 0.],\n",
              "       [0., 1., 1., 1., 1., 1., 0.],\n",
              "       [0., 1., 1., 1., 1., 1., 0.]])"
            ]
          },
          "metadata": {},
          "execution_count": 82
        }
      ]
    },
    {
      "cell_type": "code",
      "source": [
        "k[0,0:]=0\n",
        "k"
      ],
      "metadata": {
        "colab": {
          "base_uri": "https://localhost:8080/"
        },
        "id": "YNyL8HTXgosy",
        "outputId": "417cbf79-a32d-43ac-f253-4c60020bac1e"
      },
      "execution_count": 83,
      "outputs": [
        {
          "output_type": "execute_result",
          "data": {
            "text/plain": [
              "array([[0., 0., 0., 0., 0., 0., 0.],\n",
              "       [0., 1., 1., 1., 1., 1., 0.],\n",
              "       [0., 1., 1., 1., 1., 1., 0.],\n",
              "       [0., 1., 1., 1., 1., 1., 0.],\n",
              "       [0., 1., 1., 1., 1., 1., 0.],\n",
              "       [0., 1., 1., 1., 1., 1., 0.],\n",
              "       [0., 1., 1., 1., 1., 1., 0.]])"
            ]
          },
          "metadata": {},
          "execution_count": 83
        }
      ]
    },
    {
      "cell_type": "code",
      "source": [
        "k[6,0:]=0\n",
        "k"
      ],
      "metadata": {
        "colab": {
          "base_uri": "https://localhost:8080/"
        },
        "id": "Iy-ofSOag1qa",
        "outputId": "dd3f2d77-e596-44ee-8820-601576d2d38c"
      },
      "execution_count": 84,
      "outputs": [
        {
          "output_type": "execute_result",
          "data": {
            "text/plain": [
              "array([[0., 0., 0., 0., 0., 0., 0.],\n",
              "       [0., 1., 1., 1., 1., 1., 0.],\n",
              "       [0., 1., 1., 1., 1., 1., 0.],\n",
              "       [0., 1., 1., 1., 1., 1., 0.],\n",
              "       [0., 1., 1., 1., 1., 1., 0.],\n",
              "       [0., 1., 1., 1., 1., 1., 0.],\n",
              "       [0., 0., 0., 0., 0., 0., 0.]])"
            ]
          },
          "metadata": {},
          "execution_count": 84
        }
      ]
    },
    {
      "cell_type": "code",
      "source": [
        "np.zeros((7,1)) \n"
      ],
      "metadata": {
        "colab": {
          "base_uri": "https://localhost:8080/"
        },
        "id": "TOaiTEXteNkh",
        "outputId": "58b26843-2ff2-4fc4-c0eb-2e8e6e971167"
      },
      "execution_count": 75,
      "outputs": [
        {
          "output_type": "execute_result",
          "data": {
            "text/plain": [
              "array([[0.],\n",
              "       [0.],\n",
              "       [0.],\n",
              "       [0.],\n",
              "       [0.],\n",
              "       [0.],\n",
              "       [0.]])"
            ]
          },
          "metadata": {},
          "execution_count": 75
        }
      ]
    },
    {
      "cell_type": "code",
      "source": [
        "l = np.arange(49).reshape((7,7))\n",
        "\n",
        "l"
      ],
      "metadata": {
        "colab": {
          "base_uri": "https://localhost:8080/"
        },
        "id": "4fyrfTI0e6na",
        "outputId": "2d80a49d-e3bf-44c1-9c15-47abddca2d44"
      },
      "execution_count": 77,
      "outputs": [
        {
          "output_type": "execute_result",
          "data": {
            "text/plain": [
              "array([[ 0,  1,  2,  3,  4,  5,  6],\n",
              "       [ 7,  8,  9, 10, 11, 12, 13],\n",
              "       [14, 15, 16, 17, 18, 19, 20],\n",
              "       [21, 22, 23, 24, 25, 26, 27],\n",
              "       [28, 29, 30, 31, 32, 33, 34],\n",
              "       [35, 36, 37, 38, 39, 40, 41],\n",
              "       [42, 43, 44, 45, 46, 47, 48]])"
            ]
          },
          "metadata": {},
          "execution_count": 77
        }
      ]
    },
    {
      "cell_type": "code",
      "source": [
        "k=np.ones((19,7))\n",
        "k"
      ],
      "metadata": {
        "colab": {
          "base_uri": "https://localhost:8080/"
        },
        "id": "oaPl_8L4hhi5",
        "outputId": "7d126d54-951a-412e-9b6c-73bd3a3b5fb2"
      },
      "execution_count": 88,
      "outputs": [
        {
          "output_type": "execute_result",
          "data": {
            "text/plain": [
              "array([[1., 1., 1., 1., 1., 1., 1.],\n",
              "       [1., 1., 1., 1., 1., 1., 1.],\n",
              "       [1., 1., 1., 1., 1., 1., 1.],\n",
              "       [1., 1., 1., 1., 1., 1., 1.],\n",
              "       [1., 1., 1., 1., 1., 1., 1.],\n",
              "       [1., 1., 1., 1., 1., 1., 1.],\n",
              "       [1., 1., 1., 1., 1., 1., 1.],\n",
              "       [1., 1., 1., 1., 1., 1., 1.],\n",
              "       [1., 1., 1., 1., 1., 1., 1.],\n",
              "       [1., 1., 1., 1., 1., 1., 1.],\n",
              "       [1., 1., 1., 1., 1., 1., 1.],\n",
              "       [1., 1., 1., 1., 1., 1., 1.],\n",
              "       [1., 1., 1., 1., 1., 1., 1.],\n",
              "       [1., 1., 1., 1., 1., 1., 1.],\n",
              "       [1., 1., 1., 1., 1., 1., 1.],\n",
              "       [1., 1., 1., 1., 1., 1., 1.],\n",
              "       [1., 1., 1., 1., 1., 1., 1.],\n",
              "       [1., 1., 1., 1., 1., 1., 1.],\n",
              "       [1., 1., 1., 1., 1., 1., 1.]])"
            ]
          },
          "metadata": {},
          "execution_count": 88
        }
      ]
    },
    {
      "cell_type": "code",
      "source": [
        "k[1:-1,1:-1]=0\n",
        "k"
      ],
      "metadata": {
        "colab": {
          "base_uri": "https://localhost:8080/"
        },
        "id": "x8jrgdl6hopo",
        "outputId": "80cd977d-8d4d-4c53-ed33-c73cb4ae03cf"
      },
      "execution_count": 89,
      "outputs": [
        {
          "output_type": "execute_result",
          "data": {
            "text/plain": [
              "array([[1., 1., 1., 1., 1., 1., 1.],\n",
              "       [1., 0., 0., 0., 0., 0., 1.],\n",
              "       [1., 0., 0., 0., 0., 0., 1.],\n",
              "       [1., 0., 0., 0., 0., 0., 1.],\n",
              "       [1., 0., 0., 0., 0., 0., 1.],\n",
              "       [1., 0., 0., 0., 0., 0., 1.],\n",
              "       [1., 0., 0., 0., 0., 0., 1.],\n",
              "       [1., 0., 0., 0., 0., 0., 1.],\n",
              "       [1., 0., 0., 0., 0., 0., 1.],\n",
              "       [1., 0., 0., 0., 0., 0., 1.],\n",
              "       [1., 0., 0., 0., 0., 0., 1.],\n",
              "       [1., 0., 0., 0., 0., 0., 1.],\n",
              "       [1., 0., 0., 0., 0., 0., 1.],\n",
              "       [1., 0., 0., 0., 0., 0., 1.],\n",
              "       [1., 0., 0., 0., 0., 0., 1.],\n",
              "       [1., 0., 0., 0., 0., 0., 1.],\n",
              "       [1., 0., 0., 0., 0., 0., 1.],\n",
              "       [1., 0., 0., 0., 0., 0., 1.],\n",
              "       [1., 1., 1., 1., 1., 1., 1.]])"
            ]
          },
          "metadata": {},
          "execution_count": 89
        }
      ]
    },
    {
      "cell_type": "code",
      "source": [
        "x=np.arange(1,13).reshape((4,3))\n",
        "x=np.pad(x,pad_width=2,mode='constant',constant_values=111)\n",
        "x"
      ],
      "metadata": {
        "colab": {
          "base_uri": "https://localhost:8080/"
        },
        "id": "LV_OHcf_hoil",
        "outputId": "bd19302b-0240-4072-d673-87f513186c88"
      },
      "execution_count": 92,
      "outputs": [
        {
          "output_type": "execute_result",
          "data": {
            "text/plain": [
              "array([[111, 111, 111, 111, 111, 111, 111],\n",
              "       [111, 111, 111, 111, 111, 111, 111],\n",
              "       [111, 111,   1,   2,   3, 111, 111],\n",
              "       [111, 111,   4,   5,   6, 111, 111],\n",
              "       [111, 111,   7,   8,   9, 111, 111],\n",
              "       [111, 111,  10,  11,  12, 111, 111],\n",
              "       [111, 111, 111, 111, 111, 111, 111],\n",
              "       [111, 111, 111, 111, 111, 111, 111]])"
            ]
          },
          "metadata": {},
          "execution_count": 92
        }
      ]
    },
    {
      "cell_type": "code",
      "source": [
        "x=np.arange(1,13).reshape((4,3))\n",
        "x=np.pad(x,pad_width=5,mode='edge')\n",
        "x"
      ],
      "metadata": {
        "colab": {
          "base_uri": "https://localhost:8080/"
        },
        "id": "CIssDOvfjf17",
        "outputId": "b269937c-6d1a-4374-a2ac-270090947789"
      },
      "execution_count": 94,
      "outputs": [
        {
          "output_type": "execute_result",
          "data": {
            "text/plain": [
              "array([[ 1,  1,  1,  1,  1,  1,  2,  3,  3,  3,  3,  3,  3],\n",
              "       [ 1,  1,  1,  1,  1,  1,  2,  3,  3,  3,  3,  3,  3],\n",
              "       [ 1,  1,  1,  1,  1,  1,  2,  3,  3,  3,  3,  3,  3],\n",
              "       [ 1,  1,  1,  1,  1,  1,  2,  3,  3,  3,  3,  3,  3],\n",
              "       [ 1,  1,  1,  1,  1,  1,  2,  3,  3,  3,  3,  3,  3],\n",
              "       [ 1,  1,  1,  1,  1,  1,  2,  3,  3,  3,  3,  3,  3],\n",
              "       [ 4,  4,  4,  4,  4,  4,  5,  6,  6,  6,  6,  6,  6],\n",
              "       [ 7,  7,  7,  7,  7,  7,  8,  9,  9,  9,  9,  9,  9],\n",
              "       [10, 10, 10, 10, 10, 10, 11, 12, 12, 12, 12, 12, 12],\n",
              "       [10, 10, 10, 10, 10, 10, 11, 12, 12, 12, 12, 12, 12],\n",
              "       [10, 10, 10, 10, 10, 10, 11, 12, 12, 12, 12, 12, 12],\n",
              "       [10, 10, 10, 10, 10, 10, 11, 12, 12, 12, 12, 12, 12],\n",
              "       [10, 10, 10, 10, 10, 10, 11, 12, 12, 12, 12, 12, 12],\n",
              "       [10, 10, 10, 10, 10, 10, 11, 12, 12, 12, 12, 12, 12]])"
            ]
          },
          "metadata": {},
          "execution_count": 94
        }
      ]
    },
    {
      "cell_type": "code",
      "source": [
        "x=np.arange(1,13).reshape((4,3))\n",
        "y=np.pad(x,pad_width=1,mode='maximum')\n",
        "print(x)\n",
        "y"
      ],
      "metadata": {
        "colab": {
          "base_uri": "https://localhost:8080/"
        },
        "id": "wvyNY_BnkDIk",
        "outputId": "25612632-d437-42fc-8991-f623a13948ed"
      },
      "execution_count": 101,
      "outputs": [
        {
          "output_type": "stream",
          "name": "stdout",
          "text": [
            "[[ 1  2  3]\n",
            " [ 4  5  6]\n",
            " [ 7  8  9]\n",
            " [10 11 12]]\n"
          ]
        },
        {
          "output_type": "execute_result",
          "data": {
            "text/plain": [
              "array([[12, 10, 11, 12, 12],\n",
              "       [ 3,  1,  2,  3,  3],\n",
              "       [ 6,  4,  5,  6,  6],\n",
              "       [ 9,  7,  8,  9,  9],\n",
              "       [12, 10, 11, 12, 12],\n",
              "       [12, 10, 11, 12, 12]])"
            ]
          },
          "metadata": {},
          "execution_count": 101
        }
      ]
    },
    {
      "cell_type": "code",
      "source": [
        "x=np.arange(1,13).reshape((4,3))\n",
        "x=np.pad(x,pad_width=6,mode='minimum')\n",
        "x"
      ],
      "metadata": {
        "colab": {
          "base_uri": "https://localhost:8080/"
        },
        "id": "dg10p6IlkDBP",
        "outputId": "020fb255-e2ac-4cfb-ae36-9704767e3542"
      },
      "execution_count": 98,
      "outputs": [
        {
          "output_type": "execute_result",
          "data": {
            "text/plain": [
              "array([[ 1,  1,  1,  1,  1,  1,  1,  2,  3,  1,  1,  1,  1,  1,  1],\n",
              "       [ 1,  1,  1,  1,  1,  1,  1,  2,  3,  1,  1,  1,  1,  1,  1],\n",
              "       [ 1,  1,  1,  1,  1,  1,  1,  2,  3,  1,  1,  1,  1,  1,  1],\n",
              "       [ 1,  1,  1,  1,  1,  1,  1,  2,  3,  1,  1,  1,  1,  1,  1],\n",
              "       [ 1,  1,  1,  1,  1,  1,  1,  2,  3,  1,  1,  1,  1,  1,  1],\n",
              "       [ 1,  1,  1,  1,  1,  1,  1,  2,  3,  1,  1,  1,  1,  1,  1],\n",
              "       [ 1,  1,  1,  1,  1,  1,  1,  2,  3,  1,  1,  1,  1,  1,  1],\n",
              "       [ 4,  4,  4,  4,  4,  4,  4,  5,  6,  4,  4,  4,  4,  4,  4],\n",
              "       [ 7,  7,  7,  7,  7,  7,  7,  8,  9,  7,  7,  7,  7,  7,  7],\n",
              "       [10, 10, 10, 10, 10, 10, 10, 11, 12, 10, 10, 10, 10, 10, 10],\n",
              "       [ 1,  1,  1,  1,  1,  1,  1,  2,  3,  1,  1,  1,  1,  1,  1],\n",
              "       [ 1,  1,  1,  1,  1,  1,  1,  2,  3,  1,  1,  1,  1,  1,  1],\n",
              "       [ 1,  1,  1,  1,  1,  1,  1,  2,  3,  1,  1,  1,  1,  1,  1],\n",
              "       [ 1,  1,  1,  1,  1,  1,  1,  2,  3,  1,  1,  1,  1,  1,  1],\n",
              "       [ 1,  1,  1,  1,  1,  1,  1,  2,  3,  1,  1,  1,  1,  1,  1],\n",
              "       [ 1,  1,  1,  1,  1,  1,  1,  2,  3,  1,  1,  1,  1,  1,  1]])"
            ]
          },
          "metadata": {},
          "execution_count": 98
        }
      ]
    },
    {
      "cell_type": "code",
      "source": [
        "x=np.arange(1,13).reshape((4,3))\n",
        "x=np.pad(x,pad_width=1,mode='mean')\n",
        "x"
      ],
      "metadata": {
        "colab": {
          "base_uri": "https://localhost:8080/"
        },
        "id": "ez1oljjik9mn",
        "outputId": "2be252d4-f838-416d-c064-5d0d3b81debc"
      },
      "execution_count": 103,
      "outputs": [
        {
          "output_type": "execute_result",
          "data": {
            "text/plain": [
              "array([[ 7,  6,  6,  8,  7],\n",
              "       [ 2,  1,  2,  3,  2],\n",
              "       [ 5,  4,  5,  6,  5],\n",
              "       [ 8,  7,  8,  9,  8],\n",
              "       [11, 10, 11, 12, 11],\n",
              "       [ 7,  6,  6,  8,  7]])"
            ]
          },
          "metadata": {},
          "execution_count": 103
        }
      ]
    },
    {
      "cell_type": "code",
      "source": [
        "x=np.arange(1,13).reshape((4,3))\n",
        "x=np.pad(x,pad_width=1,mode='median')\n",
        "x"
      ],
      "metadata": {
        "colab": {
          "base_uri": "https://localhost:8080/"
        },
        "id": "dTuDQRlLmW9Z",
        "outputId": "99ffa7a6-6814-40a3-d3b8-9469f3c4a335"
      },
      "execution_count": 104,
      "outputs": [
        {
          "output_type": "execute_result",
          "data": {
            "text/plain": [
              "array([[ 6,  6,  6,  8,  6],\n",
              "       [ 2,  1,  2,  3,  2],\n",
              "       [ 5,  4,  5,  6,  5],\n",
              "       [ 8,  7,  8,  9,  8],\n",
              "       [11, 10, 11, 12, 11],\n",
              "       [ 6,  6,  6,  8,  6]])"
            ]
          },
          "metadata": {},
          "execution_count": 104
        }
      ]
    },
    {
      "cell_type": "code",
      "source": [
        "x=np.arange(1,13).reshape((4,3))\n",
        "x=np.pad(x,pad_width=2,mode='reflect')\n",
        "x"
      ],
      "metadata": {
        "colab": {
          "base_uri": "https://localhost:8080/"
        },
        "id": "723zdX91nDAE",
        "outputId": "4136b590-8911-4c28-acd0-1e9bb7ab5b2d"
      },
      "execution_count": 106,
      "outputs": [
        {
          "output_type": "execute_result",
          "data": {
            "text/plain": [
              "array([[ 9,  8,  7,  8,  9,  8,  7],\n",
              "       [ 6,  5,  4,  5,  6,  5,  4],\n",
              "       [ 3,  2,  1,  2,  3,  2,  1],\n",
              "       [ 6,  5,  4,  5,  6,  5,  4],\n",
              "       [ 9,  8,  7,  8,  9,  8,  7],\n",
              "       [12, 11, 10, 11, 12, 11, 10],\n",
              "       [ 9,  8,  7,  8,  9,  8,  7],\n",
              "       [ 6,  5,  4,  5,  6,  5,  4]])"
            ]
          },
          "metadata": {},
          "execution_count": 106
        }
      ]
    },
    {
      "cell_type": "code",
      "source": [
        "x=np.arange(1,13).reshape((4,3))\n",
        "x=np.pad(x,pad_width=3,mode='symmetric')\n",
        "x"
      ],
      "metadata": {
        "colab": {
          "base_uri": "https://localhost:8080/"
        },
        "id": "0rMmmylDoY0m",
        "outputId": "a94bcb11-6e92-4ad6-9900-c5435b01a58f"
      },
      "execution_count": 108,
      "outputs": [
        {
          "output_type": "execute_result",
          "data": {
            "text/plain": [
              "array([[ 9,  8,  7,  7,  8,  9,  9,  8,  7],\n",
              "       [ 6,  5,  4,  4,  5,  6,  6,  5,  4],\n",
              "       [ 3,  2,  1,  1,  2,  3,  3,  2,  1],\n",
              "       [ 3,  2,  1,  1,  2,  3,  3,  2,  1],\n",
              "       [ 6,  5,  4,  4,  5,  6,  6,  5,  4],\n",
              "       [ 9,  8,  7,  7,  8,  9,  9,  8,  7],\n",
              "       [12, 11, 10, 10, 11, 12, 12, 11, 10],\n",
              "       [12, 11, 10, 10, 11, 12, 12, 11, 10],\n",
              "       [ 9,  8,  7,  7,  8,  9,  9,  8,  7],\n",
              "       [ 6,  5,  4,  4,  5,  6,  6,  5,  4]])"
            ]
          },
          "metadata": {},
          "execution_count": 108
        }
      ]
    },
    {
      "cell_type": "code",
      "source": [
        "x=np.arange(1,13).reshape((4,3))\n",
        "x=np.pad(x,pad_width=1,mode='wrap')\n",
        "x"
      ],
      "metadata": {
        "colab": {
          "base_uri": "https://localhost:8080/"
        },
        "id": "5IacPueFo4rX",
        "outputId": "6d9ae1a3-111a-4cbc-9395-39885bb446d8"
      },
      "execution_count": 114,
      "outputs": [
        {
          "output_type": "execute_result",
          "data": {
            "text/plain": [
              "array([[12, 10, 11, 12, 10],\n",
              "       [ 3,  1,  2,  3,  1],\n",
              "       [ 6,  4,  5,  6,  4],\n",
              "       [ 9,  7,  8,  9,  7],\n",
              "       [12, 10, 11, 12, 10],\n",
              "       [ 3,  1,  2,  3,  1]])"
            ]
          },
          "metadata": {},
          "execution_count": 114
        }
      ]
    }
  ]
}